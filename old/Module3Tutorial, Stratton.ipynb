{
 "cells": [
  {
   "cell_type": "markdown",
   "metadata": {},
   "source": [
    "Ty Stratton\n",
    "4/1/2025\n",
    "Functional vs OOP Programming\n",
    "Solving Module 3 Tutorials"
   ]
  },
  {
   "cell_type": "code",
   "execution_count": 53,
   "metadata": {},
   "outputs": [],
   "source": [
    "arr = [0, 1, 2, 0, 1, 2]\n",
    "arr_sorted = []"
   ]
  },
  {
   "cell_type": "code",
   "execution_count": 54,
   "metadata": {},
   "outputs": [],
   "source": [
    "for x in arr:\n",
    "    inserted = False\n",
    "    for y in range(len(arr_sorted)):\n",
    "        if x < arr_sorted[y]:\n",
    "            arr_sorted.insert(y, x)\n",
    "            inserted = True\n",
    "            break\n",
    "    if not inserted:\n",
    "        arr_sorted.append(x)"
   ]
  },
  {
   "cell_type": "code",
   "execution_count": 55,
   "metadata": {},
   "outputs": [
    {
     "name": "stdout",
     "output_type": "stream",
     "text": [
      "[0, 0, 1, 1, 2, 2]\n"
     ]
    }
   ],
   "source": [
    "print(arr_sorted)"
   ]
  },
  {
   "cell_type": "code",
   "execution_count": 86,
   "metadata": {},
   "outputs": [
    {
     "name": "stdout",
     "output_type": "stream",
     "text": [
      "4\n"
     ]
    }
   ],
   "source": [
    "arr = [1,2,3,4,5]\n",
    "k=5\n",
    "for number in arr:\n",
    "    if number == k:\n",
    "        found = arr.index(number)\n",
    "print(found) "
   ]
  }
 ],
 "metadata": {
  "kernelspec": {
   "display_name": "base",
   "language": "python",
   "name": "python3"
  },
  "language_info": {
   "codemirror_mode": {
    "name": "ipython",
    "version": 3
   },
   "file_extension": ".py",
   "mimetype": "text/x-python",
   "name": "python",
   "nbconvert_exporter": "python",
   "pygments_lexer": "ipython3",
   "version": "3.12.3"
  }
 },
 "nbformat": 4,
 "nbformat_minor": 2
}
