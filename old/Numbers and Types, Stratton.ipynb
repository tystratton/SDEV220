{
 "cells": [
  {
   "cell_type": "code",
   "execution_count": 1,
   "id": "9db4cee4-0129-412c-806d-f0cd00a094f8",
   "metadata": {},
   "outputs": [
    {
     "data": {
      "text/plain": [
       "3600"
      ]
     },
     "execution_count": 1,
     "metadata": {},
     "output_type": "execute_result"
    }
   ],
   "source": [
    "60 * 60"
   ]
  },
  {
   "cell_type": "code",
   "execution_count": 7,
   "id": "caa8a581-6d53-47a7-b843-3b1872008840",
   "metadata": {},
   "outputs": [],
   "source": [
    "seconds_per_hour = 60*60"
   ]
  },
  {
   "cell_type": "code",
   "execution_count": 8,
   "id": "cd41b8a9-9acb-4aec-99e6-f72b0fc8c5a7",
   "metadata": {},
   "outputs": [
    {
     "data": {
      "text/plain": [
       "86400"
      ]
     },
     "execution_count": 8,
     "metadata": {},
     "output_type": "execute_result"
    }
   ],
   "source": [
    "seconds_per_hour * 24"
   ]
  },
  {
   "cell_type": "code",
   "execution_count": 9,
   "id": "16b34f0a-e56c-4fe7-8aff-e36a964bd2f2",
   "metadata": {},
   "outputs": [],
   "source": [
    "seconds_per_day = seconds_per_hour * 24"
   ]
  },
  {
   "cell_type": "code",
   "execution_count": 10,
   "id": "fd7366f6-af16-4a58-9a36-eed84e4db6e7",
   "metadata": {},
   "outputs": [
    {
     "data": {
      "text/plain": [
       "24.0"
      ]
     },
     "execution_count": 10,
     "metadata": {},
     "output_type": "execute_result"
    }
   ],
   "source": [
    "seconds_per_day/seconds_per_hour"
   ]
  },
  {
   "cell_type": "code",
   "execution_count": 12,
   "id": "9101b7ed-230f-41da-83a6-d6f2d4b056f9",
   "metadata": {},
   "outputs": [
    {
     "data": {
      "text/plain": [
       "24"
      ]
     },
     "execution_count": 12,
     "metadata": {},
     "output_type": "execute_result"
    }
   ],
   "source": [
    "seconds_per_day//seconds_per_hour"
   ]
  },
  {
   "cell_type": "markdown",
   "id": "02fea701-0f82-41aa-a6aa-79e70ac14dbe",
   "metadata": {},
   "source": [
    "### 3.6 - The number agrees with the floating point value from the previous question"
   ]
  },
  {
   "cell_type": "markdown",
   "id": "4886254e-8fc2-499b-bbde-ecf9a18f6b6f",
   "metadata": {},
   "source": [
    "### 3.1 - There are 3600 seconds in an hour"
   ]
  },
  {
   "cell_type": "markdown",
   "id": "c0322f19-49f5-4052-a8bb-391a1e8fbc8e",
   "metadata": {},
   "source": [
    "### 3.3 - There are 86400 seconds in a day"
   ]
  }
 ],
 "metadata": {
  "kernelspec": {
   "display_name": "Python 3 (ipykernel)",
   "language": "python",
   "name": "python3"
  },
  "language_info": {
   "codemirror_mode": {
    "name": "ipython",
    "version": 3
   },
   "file_extension": ".py",
   "mimetype": "text/x-python",
   "name": "python",
   "nbconvert_exporter": "python",
   "pygments_lexer": "ipython3",
   "version": "3.12.7"
  }
 },
 "nbformat": 4,
 "nbformat_minor": 5
}
