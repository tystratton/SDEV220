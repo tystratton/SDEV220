{
 "cells": [
  {
   "cell_type": "code",
   "execution_count": 11,
   "metadata": {},
   "outputs": [],
   "source": [
    "import datetime\n",
    "\n",
    "string = datetime.datetime.now().strftime(\"%Y-%m-%d %H:%M:%S\")\n",
    "\n",
    "#write string to .txt file today.txt\n",
    "with open(\"today.txt\", \"w\") as file:\n",
    "    file.write(string)"
   ]
  },
  {
   "cell_type": "code",
   "execution_count": 2,
   "metadata": {},
   "outputs": [
    {
     "name": "stdout",
     "output_type": "stream",
     "text": [
      "2025-04-16 13:51:17\n"
     ]
    }
   ],
   "source": [
    "#read the string from today.txt\n",
    "today_string = open(\"today.txt\", \"r\").read()\n",
    "\n",
    "print(today_string)\n",
    "\n"
   ]
  },
  {
   "cell_type": "code",
   "execution_count": 6,
   "metadata": {},
   "outputs": [
    {
     "name": "stdout",
     "output_type": "stream",
     "text": [
      "String:  2025-04-16\n",
      "Date Object:  2025-04-16 13:51:17\n"
     ]
    }
   ],
   "source": [
    "#create date time object from today_string\n",
    "date_string = today_string.split(\" \")[0]\n",
    "date_time = datetime.datetime.strptime(today_string, \"%Y-%m-%d %H:%M:%S\")\n",
    "\n",
    "#not sure what it's trying to get at with parse the date, so I'm just going to print the date string and the date time object\n",
    "print(\"String: \", date_string)\n",
    "print(\"Date Object: \", date_time)\n"
   ]
  },
  {
   "cell_type": "code",
   "execution_count": 11,
   "metadata": {},
   "outputs": [
    {
     "name": "stdout",
     "output_type": "stream",
     "text": [
      "Current time:  2025-04-16 14:21:16\n",
      "Current time:  2025-04-16 14:21:17\n",
      "Current time:  2025-04-16 14:21:17\n"
     ]
    }
   ],
   "source": [
    "import threading #tried to use multiprocessing but it was giving me errors in jupyter notebook\n",
    "import time\n",
    "import random\n",
    "import datetime\n",
    "\n",
    "\n",
    "def print_time():\n",
    "    time.sleep(random.uniform(0, 1))\n",
    "    print(\"Current time: \", datetime.datetime.now().strftime(\"%Y-%m-%d %H:%M:%S\"))\n",
    "\n",
    "def process_time():\n",
    "    threads = []\n",
    "    for i in range(3):\n",
    "        t = threading.Thread(target=print_time)\n",
    "        threads.append(t)\n",
    "        t.start()\n",
    "\n",
    "    for t in threads:\n",
    "        t.join()\n",
    "\n",
    "if __name__ == \"__main__\":\n",
    "    process_time()\n",
    "\n"
   ]
  }
 ],
 "metadata": {
  "kernelspec": {
   "display_name": "Python 3",
   "language": "python",
   "name": "python3"
  },
  "language_info": {
   "codemirror_mode": {
    "name": "ipython",
    "version": 3
   },
   "file_extension": ".py",
   "mimetype": "text/x-python",
   "name": "python",
   "nbconvert_exporter": "python",
   "pygments_lexer": "ipython3",
   "version": "3.13.3"
  }
 },
 "nbformat": 4,
 "nbformat_minor": 2
}
